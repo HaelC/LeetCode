{
 "cells": [
  {
   "cell_type": "markdown",
   "metadata": {},
   "source": [
    "# 17. Letter Combinations of a Phone Number"
   ]
  },
  {
   "cell_type": "markdown",
   "metadata": {},
   "source": [
    "Given a string containing digits from 2-9 inclusive, return all possible letter combinations that the number could represent.\n",
    "\n",
    "A mapping of digit to letters (just like on the telephone buttons) is given below. Note that 1 does not map to any letters.\n",
    "\n",
    "![](http://upload.wikimedia.org/wikipedia/commons/thumb/7/73/Telephone-keypad2.svg/200px-Telephone-keypad2.svg.png)\n",
    "\n",
    "**Example:**\n",
    "```\n",
    "Input: \"23\"\n",
    "Output: [\"ad\", \"ae\", \"af\", \"bd\", \"be\", \"bf\", \"cd\", \"ce\", \"cf\"].\n",
    "```\n",
    "\n",
    "**Note:**\n",
    "Although the above answer is in lexicographical order, your answer could be in any order you want."
   ]
  },
  {
   "cell_type": "markdown",
   "metadata": {},
   "source": [
    "## Solution"
   ]
  },
  {
   "cell_type": "code",
   "execution_count": 23,
   "metadata": {},
   "outputs": [],
   "source": [
    "class Solution:\n",
    "    def letterCombinations(self, digits):\n",
    "        if not digits:\n",
    "            return []                            # in case the string is empty\n",
    "        res = ['']\n",
    "        for digit in digits:\n",
    "            for i in range(len(res)):\n",
    "                if digit == '2':\n",
    "                    res.append(res[i] + 'b')\n",
    "                    res.append(res[i] + 'c')\n",
    "                    res[i] += 'a'\n",
    "                elif digit == '3':\n",
    "                    res.append(res[i] + 'e')\n",
    "                    res.append(res[i] + 'f')\n",
    "                    res[i] += 'd'\n",
    "                elif digit == '4':\n",
    "                    res.append(res[i] + 'h')\n",
    "                    res.append(res[i] + 'i')\n",
    "                    res[i] += 'g'\n",
    "                elif digit == '5':\n",
    "                    res.append(res[i] + 'k')\n",
    "                    res.append(res[i] + 'l')\n",
    "                    res[i] += 'j'\n",
    "                elif digit == '6':\n",
    "                    res.append(res[i] + 'n')\n",
    "                    res.append(res[i] + 'o')\n",
    "                    res[i] += 'm'\n",
    "                elif digit == '7':\n",
    "                    res.append(res[i] + 'q')\n",
    "                    res.append(res[i] + 'r')\n",
    "                    res.append(res[i] + 's')\n",
    "                    res[i] += 'p'\n",
    "                elif digit == '8':\n",
    "                    res.append(res[i] + 'u')\n",
    "                    res.append(res[i] + 'v')\n",
    "                    res[i] += 't'\n",
    "                elif digit == '9':\n",
    "                    res.append(res[i] + 'x')\n",
    "                    res.append(res[i] + 'y')\n",
    "                    res.append(res[i] + 'z')\n",
    "                    res[i] += 'w'\n",
    "\n",
    "        return res"
   ]
  },
  {
   "cell_type": "markdown",
   "metadata": {},
   "source": [
    "*Runtime: 36 ms, faster than 74.72% of Python3 online submissions for Letter Combinations of a Phone Number.  \n",
    "Memory Usage: 13 MB, less than 5.86% of Python3 online submissions for Letter Combinations of a Phone Number.*"
   ]
  },
  {
   "cell_type": "markdown",
   "metadata": {},
   "source": [
    "## Testcase"
   ]
  },
  {
   "cell_type": "code",
   "execution_count": 25,
   "metadata": {},
   "outputs": [
    {
     "data": {
      "text/plain": [
       "['ad', 'bd', 'cd', 'ae', 'af', 'be', 'bf', 'ce', 'cf']"
      ]
     },
     "execution_count": 25,
     "metadata": {},
     "output_type": "execute_result"
    }
   ],
   "source": [
    "digits = \"23\"\n",
    "Solution.letterCombinations(None, digits)"
   ]
  },
  {
   "cell_type": "code",
   "execution_count": null,
   "metadata": {},
   "outputs": [],
   "source": []
  }
 ],
 "metadata": {
  "kernelspec": {
   "display_name": "Python 3",
   "language": "python",
   "name": "python3"
  },
  "language_info": {
   "codemirror_mode": {
    "name": "ipython",
    "version": 3
   },
   "file_extension": ".py",
   "mimetype": "text/x-python",
   "name": "python",
   "nbconvert_exporter": "python",
   "pygments_lexer": "ipython3",
   "version": "3.6.3"
  }
 },
 "nbformat": 4,
 "nbformat_minor": 2
}
