{
 "cells": [
  {
   "cell_type": "markdown",
   "metadata": {},
   "source": [
    "# 2. Add Two Numbers"
   ]
  },
  {
   "cell_type": "markdown",
   "metadata": {},
   "source": [
    "You are given two non-empty linked lists representing two non-negative integers. The digits are stored in reverse order and each of their nodes contain a single digit. Add the two numbers and return it as a linked list.\n",
    "\n",
    "You may assume the two numbers do not contain any leading zero, except the number 0 itself."
   ]
  },
  {
   "cell_type": "markdown",
   "metadata": {},
   "source": [
    "**Example**  \n",
    "\n",
    "```\n",
    "Input: (2 -> 4 -> 3) + (5 -> 6 -> 4)\n",
    "Output: 7 -> 0 -> 8\n",
    "Explanation: 342 + 465 = 807.\n",
    "```"
   ]
  },
  {
   "cell_type": "markdown",
   "metadata": {},
   "source": [
    "## Solution (Straight-forward)"
   ]
  },
  {
   "cell_type": "code",
   "execution_count": 32,
   "metadata": {},
   "outputs": [],
   "source": [
    "class Solution:\n",
    "    def addTwoNumbers(self, l1, l2):\n",
    "        add = l1.val + l2.val\n",
    "        carry = add // 10\n",
    "        add = add - 10 * carry\n",
    "        head = ListNode(add)\n",
    "        tail = head\n",
    "        while (l1.next and l2.next):\n",
    "            l1 = l1.next\n",
    "            l2 = l2.next\n",
    "            add = l1.val + l2.val + carry\n",
    "            carry = add // 10\n",
    "            add = add - 10 * carry\n",
    "            tail.next = ListNode(add)\n",
    "            tail = tail.next\n",
    "        \n",
    "        while (l1.next):\n",
    "            l1 = l1.next\n",
    "            add = l1.val + carry\n",
    "            carry = add // 10\n",
    "            add = add - 10 * carry\n",
    "            tail.next = ListNode(add)\n",
    "            tail = tail.next\n",
    "           \n",
    "        while (l2.next):\n",
    "            l2 = l2.next\n",
    "            add = l2.val + carry\n",
    "            carry = add // 10\n",
    "            add = add - 10 * carry\n",
    "            tail.next = ListNode(add)\n",
    "            tail = tail.next\n",
    "            \n",
    "        if (carry):\n",
    "            tail.next = ListNode(1)\n",
    "            tail = tail.next\n",
    "            \n",
    "        return head"
   ]
  },
  {
   "cell_type": "markdown",
   "metadata": {},
   "source": [
    "*Runtime: 76 ms, faster than 99.96% of Python3 online submissions for Add Two Numbers.  \n",
    "Memory Usage: 13.2 MB, less than 5.21% of Python3 online submissions for Add Two Numbers.*"
   ]
  },
  {
   "cell_type": "markdown",
   "metadata": {},
   "source": [
    "## Solution (Simplified)"
   ]
  },
  {
   "cell_type": "code",
   "execution_count": 37,
   "metadata": {},
   "outputs": [],
   "source": [
    "class Solution:\n",
    "    def addTwoNumbers(self, l1, l2):\n",
    "        dummy = node = ListNode(0)             # add a dummy head to avoid extra code to initialize list's head node\n",
    "        carry = 0\n",
    "        while (l1 or l2 or carry):\n",
    "            if l1:\n",
    "                carry += l1.val\n",
    "                l1 = l1.next\n",
    "            if l2:\n",
    "                carry += l2.val\n",
    "                l2 = l2.next\n",
    "            node.next = ListNode(carry % 10)\n",
    "            node = node.next\n",
    "            carry //= 10\n",
    "        return dummy.next"
   ]
  },
  {
   "cell_type": "markdown",
   "metadata": {},
   "source": [
    "*Runtime: 76 ms, faster than 99.96% of Python3 online submissions for Add Two Numbers.  \n",
    "Memory Usage: 13.3 MB, less than 5.21% of Python3 online submissions for Add Two Numbers.*"
   ]
  },
  {
   "cell_type": "markdown",
   "metadata": {},
   "source": [
    "## Test case"
   ]
  },
  {
   "cell_type": "code",
   "execution_count": 33,
   "metadata": {},
   "outputs": [],
   "source": [
    "class ListNode:\n",
    "    def __init__(self, x):\n",
    "        self.val = x\n",
    "        self.next = None"
   ]
  },
  {
   "cell_type": "code",
   "execution_count": 42,
   "metadata": {},
   "outputs": [],
   "source": [
    "n1 = ListNode(2)\n",
    "n2 = ListNode(4)\n",
    "n3 = ListNode(3)\n",
    "\n",
    "n1.next = n2\n",
    "n2.next = n3\n",
    "\n",
    "m1 = ListNode(5)\n",
    "m2 = ListNode(6)\n",
    "m3 = ListNode(4)\n",
    "m1.next = m2\n",
    "m2.next = m3\n",
    "\n",
    "node = Solution.addTwoNumbers(None, n1, m1)"
   ]
  },
  {
   "cell_type": "code",
   "execution_count": 43,
   "metadata": {},
   "outputs": [
    {
     "name": "stdout",
     "output_type": "stream",
     "text": [
      "7->0->8\n"
     ]
    }
   ],
   "source": [
    "while (node.next):\n",
    "    print(node.val, end='->')\n",
    "    node = node.next\n",
    "print(node.val)"
   ]
  },
  {
   "cell_type": "code",
   "execution_count": null,
   "metadata": {},
   "outputs": [],
   "source": []
  }
 ],
 "metadata": {
  "kernelspec": {
   "display_name": "Python 3",
   "language": "python",
   "name": "python3"
  },
  "language_info": {
   "codemirror_mode": {
    "name": "ipython",
    "version": 3
   },
   "file_extension": ".py",
   "mimetype": "text/x-python",
   "name": "python",
   "nbconvert_exporter": "python",
   "pygments_lexer": "ipython3",
   "version": "3.6.3"
  }
 },
 "nbformat": 4,
 "nbformat_minor": 2
}
